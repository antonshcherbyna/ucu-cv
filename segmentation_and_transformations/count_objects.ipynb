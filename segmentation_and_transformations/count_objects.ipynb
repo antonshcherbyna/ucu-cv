{
 "cells": [
  {
   "cell_type": "code",
   "execution_count": null,
   "metadata": {},
   "outputs": [],
   "source": [
    "import numpy as np\n",
    "import cv2\n",
    "import os\n",
    "\n",
    "import matplotlib.pyplot as plt\n",
    "%matplotlib inline"
   ]
  },
  {
   "cell_type": "markdown",
   "metadata": {},
   "source": [
    "###  Define handy functions"
   ]
  },
  {
   "cell_type": "markdown",
   "metadata": {},
   "source": [
    "**Useful vis function**"
   ]
  },
  {
   "cell_type": "code",
   "execution_count": null,
   "metadata": {},
   "outputs": [],
   "source": [
    "def show_image(orig_img, count):\n",
    "    fig, ax = plt.subplots(figsize=(20, 20))\n",
    "    _ = ax.set_title('Number of objects is {}'.format(count))\n",
    "    _ = ax.axis('off')\n",
    "    _ = ax.imshow(orig_img)\n",
    "    plt.show()"
   ]
  },
  {
   "cell_type": "code",
   "execution_count": null,
   "metadata": {},
   "outputs": [],
   "source": [
    "def count_objects(img):\n",
    "    \n",
    "    # equalization\n",
    "    clahe = cv2.createCLAHE(clipLimit=1.25, tileGridSize=(7, 7))\n",
    "    img = clahe.apply(img)\n",
    "    \n",
    "    # denoising \n",
    "    img = cv2.medianBlur(img, 3)\n",
    "    img = cv2.adaptiveThreshold(img, 255, cv2.ADAPTIVE_THRESH_GAUSSIAN_C, cv2.THRESH_BINARY, 13, 13)\n",
    "    img = cv2.GaussianBlur(img, (3, 3), 1)\n",
    "    _, img = cv2.threshold(img, 0, 255, cv2.THRESH_BINARY + cv2.THRESH_OTSU)\n",
    "    \n",
    "    # separate objects\n",
    "    kernel = cv2.getStructuringElement(cv2.MORPH_ELLIPSE, (5, 5))\n",
    "    img = cv2.morphologyEx(img, cv2.MORPH_OPEN, kernel, iterations=1)\n",
    "\n",
    "    # post processing\n",
    "    img = cv2.GaussianBlur(img, (3, 3), 1)\n",
    "    img = cv2.fastNlMeansDenoising(img, None, 70, 15, 15)\n",
    "    _, img = cv2.threshold(img, 0, 255, cv2.THRESH_BINARY + cv2.THRESH_OTSU)\n",
    "    \n",
    "    # get separated objects\n",
    "    _, markers = cv2.connectedComponents(img) \n",
    "    \n",
    "    # count classes\n",
    "    count = np.unique(markers.flatten()).shape[0] - 1\n",
    "    \n",
    "    return count\n",
    "  "
   ]
  },
  {
   "cell_type": "code",
   "execution_count": null,
   "metadata": {},
   "outputs": [],
   "source": [
    "for root, dir, files in os.walk('./data/count/'):\n",
    "    img_paths = [os.path.join(root, file) for file in files]"
   ]
  },
  {
   "cell_type": "code",
   "execution_count": null,
   "metadata": {
    "scrolled": false
   },
   "outputs": [],
   "source": [
    "for img_path in img_paths:\n",
    "    \n",
    "    # read image\n",
    "    img = cv2.imread(img_path)\n",
    "    \n",
    "    # get original image in RGB for visualization\n",
    "    orig_img = cv2.cvtColor(img, cv2.COLOR_BGR2RGB)\n",
    "    \n",
    "    # get image in grayscale for further processing\n",
    "    img = cv2.cvtColor(img, cv2.COLOR_BGR2GRAY)\n",
    "    \n",
    "    # get count\n",
    "    count = count_objects(img)\n",
    "    \n",
    "    # show results\n",
    "    show_image(orig_img, count)"
   ]
  }
 ],
 "metadata": {
  "kernelspec": {
   "name": "python383jvsc74a57bd0dca0ade3e726a953b501b15e8e990130d2b7799f14cfd9f4271676035ebe5511",
   "display_name": "Python 3.6.8 64-bit ('base': conda)"
  },
  "language_info": {
   "codemirror_mode": {
    "name": "ipython",
    "version": 3
   },
   "file_extension": ".py",
   "mimetype": "text/x-python",
   "name": "python",
   "nbconvert_exporter": "python",
   "pygments_lexer": "ipython3",
   "version": "3.8.3"
  }
 },
 "nbformat": 4,
 "nbformat_minor": 2
}